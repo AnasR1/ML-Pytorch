{
  "cells": [
    {
      "cell_type": "markdown",
      "metadata": {
        "id": "view-in-github",
        "colab_type": "text"
      },
      "source": [
        "<a href=\"https://colab.research.google.com/github/AnasR1/ML-Pytorch/blob/main/PytorchBasics.ipynb\" target=\"_parent\"><img src=\"https://colab.research.google.com/assets/colab-badge.svg\" alt=\"Open In Colab\"/></a>"
      ]
    },
    {
      "cell_type": "code",
      "execution_count": null,
      "metadata": {
        "id": "KQOCKuHyWLLh"
      },
      "outputs": [],
      "source": [
        "import torch\n",
        "import pandas as pd\n",
        "import numpy as np\n",
        "import matplotlib.pyplot as plt"
      ]
    },
    {
      "cell_type": "code",
      "source": [
        "#Multiplication using matricies\n",
        "t1 = torch.tensor([3,4,5])\n",
        "t2 = torch.tensor([3,4,5])\n",
        "\n",
        "print(f\"element wise multiplication: \\n{t1*t2}\")\n",
        "print(f\"Matrix Multiplication: \\n{torch.matmul(t1,t2)}\")"
      ],
      "metadata": {
        "colab": {
          "base_uri": "https://localhost:8080/"
        },
        "id": "jwlePpDlFMSK",
        "outputId": "da2e68a0-9055-4651-c847-116c9c41f5df"
      },
      "execution_count": null,
      "outputs": [
        {
          "output_type": "stream",
          "name": "stdout",
          "text": [
            "element wise multiplication: \n",
            "tensor([ 9, 16, 25])\n",
            "Matrix Multiplication: \n",
            "50\n"
          ]
        }
      ]
    },
    {
      "cell_type": "code",
      "source": [
        "##Changing Shapes to fit matrix multiplication\n",
        "tensor_A = torch.tensor([[1,2],\n",
        "                         [3,4],\n",
        "                         [5,6]])\n",
        "tensor_B = torch.tensor([[7,10],\n",
        "                         [8,11],\n",
        "                         [9,12]])\n",
        "print(tensor_A.shape)\n",
        "print(tensor_B.shape)\n",
        "# Transposing a matrix may help\n",
        "tensor_B = tensor_B.T\n",
        "tensor_B, tensor_B.shape\n",
        "\n",
        "tensor_C = torch.matmul(tensor_A, tensor_B)\n",
        "print(tensor_C, tensor_C.shape)\n",
        "\n",
        "tensor_D = torch.matmul(tensor_B, tensor_A)\n",
        "print(tensor_D, tensor_D.shape)\n",
        "tensor_E = torch.rand(2,3,4,5)\n",
        "print(tensor_E.shape)\n",
        "tensor_E = tensor_E.T\n",
        "print(tensor_E.shape)"
      ],
      "metadata": {
        "id": "xWYiRRziFaYW",
        "colab": {
          "base_uri": "https://localhost:8080/"
        },
        "outputId": "a2715583-81ef-4bb8-cb04-b8425f99a3fd"
      },
      "execution_count": null,
      "outputs": [
        {
          "output_type": "stream",
          "name": "stdout",
          "text": [
            "torch.Size([3, 2])\n",
            "torch.Size([3, 2])\n",
            "tensor([[ 27,  30,  33],\n",
            "        [ 61,  68,  75],\n",
            "        [ 95, 106, 117]]) torch.Size([3, 3])\n",
            "tensor([[ 76, 100],\n",
            "        [103, 136]]) torch.Size([2, 2])\n",
            "torch.Size([2, 3, 4, 5])\n",
            "torch.Size([5, 4, 3, 2])\n"
          ]
        }
      ]
    },
    {
      "cell_type": "code",
      "source": [
        "#Tensor Aggregation\n",
        "T1 = torch.arange(0,100,10)\n",
        "print(T1)\n",
        "print(f\"Min: {T1.min()}\")\n",
        "print(f\"Max: {T1.max()}\")\n",
        "print(f\"Mean: {T1.type(torch.float32).mean()}\")\n",
        "print(f\"Sum: {T1.sum()}\")"
      ],
      "metadata": {
        "colab": {
          "base_uri": "https://localhost:8080/"
        },
        "id": "L4f4DSrEZi0p",
        "outputId": "d168023a-91fe-49e3-cc51-93d13d71064c"
      },
      "execution_count": null,
      "outputs": [
        {
          "output_type": "stream",
          "name": "stdout",
          "text": [
            "tensor([ 0, 10, 20, 30, 40, 50, 60, 70, 80, 90])\n",
            "Min: 0\n",
            "Max: 90\n",
            "Mean: 45.0\n",
            "Sum: 450\n"
          ]
        }
      ]
    },
    {
      "cell_type": "code",
      "source": [
        "print(T1)\n",
        "print(T1.argmin())\n",
        "print(T1.argmax())\n",
        "print(T1[T1.argmin()])\n",
        "print(T1[T1.argmax()])"
      ],
      "metadata": {
        "colab": {
          "base_uri": "https://localhost:8080/"
        },
        "id": "6Bs6MU89bVoH",
        "outputId": "f341f41f-2125-41ef-f867-f2b29b85f5ca"
      },
      "execution_count": 36,
      "outputs": [
        {
          "output_type": "stream",
          "name": "stdout",
          "text": [
            "tensor([ 0, 10, 20, 30, 40, 50, 60, 70, 80, 90])\n",
            "tensor(0)\n",
            "tensor(9)\n",
            "tensor(0)\n",
            "tensor(90)\n"
          ]
        }
      ]
    },
    {
      "cell_type": "code",
      "source": [
        "#Reshaping, Stacking, (Un)Squeezing\n",
        "#Reshaping - reshapes input tensor to defined shape\n",
        "#View - Returns a view of an input tensor of certain shape but keeps\n",
        "#same memory as orginal tensor\n",
        "#Stacking - Combine multiple tensors (vstack [on top of each other]) or\n",
        "#side by side (hstack)\n",
        "#Squeeze - removes all 1 dimensions from a tensor\n",
        "#Unqqueeze - adds a 1 dimension to a tensor\n",
        "#Permute - Return a view of the input with dimensions permuted(swapped) in a\n",
        "#defined way\n",
        "\n",
        "#adding a dimension with reshape: Must have suffiecint elements\n",
        "x = torch.arange(1.,11.) # 10 Elements\n",
        "x_reshaped = x.reshape(2,5) # 2x5 needs 10 elements\n",
        "print(x_reshaped, x_reshaped.shape)\n",
        "x_reshaped = x.reshape(1,10)\n",
        "print(x_reshaped, x_reshaped.shape)\n"
      ],
      "metadata": {
        "id": "zUI140xNcV5i",
        "colab": {
          "base_uri": "https://localhost:8080/"
        },
        "outputId": "2c94e232-d9a0-4553-9b42-870883c53d7c"
      },
      "execution_count": 43,
      "outputs": [
        {
          "output_type": "stream",
          "name": "stdout",
          "text": [
            "tensor([[ 1.,  2.,  3.,  4.,  5.],\n",
            "        [ 6.,  7.,  8.,  9., 10.]]) torch.Size([2, 5])\n",
            "tensor([[ 1.,  2.,  3.,  4.,  5.,  6.,  7.,  8.,  9., 10.]]) torch.Size([1, 10])\n",
            "tensor([[ 1.,  2.,  3.,  4.,  5.,  6.,  7.,  8.,  9., 10.]]) torch.Size([1, 10])\n",
            "tensor([[ 5.,  2.,  3.,  4.,  5.,  6.,  7.,  8.,  9., 10.]]) tensor([ 5.,  2.,  3.,  4.,  5.,  6.,  7.,  8.,  9., 10.])\n"
          ]
        }
      ]
    },
    {
      "cell_type": "code",
      "source": [
        "#Changing the view\n",
        "z = x.view(1,10)\n",
        "print(z, z.shape)\n",
        "z[:,0] = 5 #changing z changes x as they share the same memory simply new pointer\n",
        "print(z, x)"
      ],
      "metadata": {
        "colab": {
          "base_uri": "https://localhost:8080/"
        },
        "id": "1gOXVt_1eoO6",
        "outputId": "57625a41-81ab-4b2c-877c-46eca07717a8"
      },
      "execution_count": 44,
      "outputs": [
        {
          "output_type": "stream",
          "name": "stdout",
          "text": [
            "tensor([[ 5.,  2.,  3.,  4.,  5.,  6.,  7.,  8.,  9., 10.]]) torch.Size([1, 10])\n",
            "tensor([[ 5.,  2.,  3.,  4.,  5.,  6.,  7.,  8.,  9., 10.]]) tensor([ 5.,  2.,  3.,  4.,  5.,  6.,  7.,  8.,  9., 10.])\n"
          ]
        }
      ]
    },
    {
      "cell_type": "code",
      "source": [
        "#Stacking Tensors\n",
        "x_stacked = torch.stack([x,x,x,x], dim=0) #Vstack as dim = 0\n",
        "print(x_stacked)\n",
        "x_stacked = torch.stack([x,x,x,x], dim=1) #Hstack as dim = 1\n",
        "print(x_stacked)"
      ],
      "metadata": {
        "colab": {
          "base_uri": "https://localhost:8080/"
        },
        "id": "2bJvLU4vfmeY",
        "outputId": "a787946e-9913-4b24-ee84-d0976680b559"
      },
      "execution_count": 46,
      "outputs": [
        {
          "output_type": "stream",
          "name": "stdout",
          "text": [
            "tensor([[ 5.,  2.,  3.,  4.,  5.,  6.,  7.,  8.,  9., 10.],\n",
            "        [ 5.,  2.,  3.,  4.,  5.,  6.,  7.,  8.,  9., 10.],\n",
            "        [ 5.,  2.,  3.,  4.,  5.,  6.,  7.,  8.,  9., 10.],\n",
            "        [ 5.,  2.,  3.,  4.,  5.,  6.,  7.,  8.,  9., 10.]])\n",
            "tensor([[ 5.,  5.,  5.,  5.],\n",
            "        [ 2.,  2.,  2.,  2.],\n",
            "        [ 3.,  3.,  3.,  3.],\n",
            "        [ 4.,  4.,  4.,  4.],\n",
            "        [ 5.,  5.,  5.,  5.],\n",
            "        [ 6.,  6.,  6.,  6.],\n",
            "        [ 7.,  7.,  7.,  7.],\n",
            "        [ 8.,  8.,  8.,  8.],\n",
            "        [ 9.,  9.,  9.,  9.],\n",
            "        [10., 10., 10., 10.]])\n"
          ]
        }
      ]
    },
    {
      "cell_type": "code",
      "source": [
        "#Squeezing"
      ],
      "metadata": {
        "id": "oVvb2VihgJGN"
      },
      "execution_count": null,
      "outputs": []
    }
  ],
  "metadata": {
    "colab": {
      "provenance": [],
      "authorship_tag": "ABX9TyMmkJ8UCHzU3HLXqiyX9vaj",
      "include_colab_link": true
    },
    "kernelspec": {
      "display_name": "Python 3",
      "name": "python3"
    },
    "language_info": {
      "name": "python"
    }
  },
  "nbformat": 4,
  "nbformat_minor": 0
}