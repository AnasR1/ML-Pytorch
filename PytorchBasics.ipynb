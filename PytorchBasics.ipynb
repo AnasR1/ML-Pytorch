{
  "nbformat": 4,
  "nbformat_minor": 0,
  "metadata": {
    "colab": {
      "provenance": [],
      "authorship_tag": "ABX9TyOYknB65qSIbJ2I0rKujL9K"
    },
    "kernelspec": {
      "name": "python3",
      "display_name": "Python 3"
    },
    "language_info": {
      "name": "python"
    }
  },
  "cells": [
    {
      "cell_type": "code",
      "execution_count": 1,
      "metadata": {
        "id": "KQOCKuHyWLLh"
      },
      "outputs": [],
      "source": [
        "import torch\n",
        "import numpy\n",
        "import pandas as pd\n",
        "import matplotlib.pyplot as plt"
      ]
    },
    {
      "cell_type": "markdown",
      "source": [
        "Tensor Manipulation\n",
        "1.Addition\n",
        "2.Subtraciton\n",
        "3.Multiplication (Element-Wise)\n",
        "4.Division\n",
        "5.Matrix Multiplication"
      ],
      "metadata": {
        "id": "Ebv03FefVTgE"
      }
    },
    {
      "cell_type": "code",
      "source": [
        "#Addition\n",
        "t1 = torch.tensor([1,2,3])\n",
        "t2 = torch.tensor([4,5,6])\n",
        "t3 = torch.tensor([7,8,9,10])\n",
        "print(t1+10)\n",
        "print(t1+t2)\n",
        "#print(t1+t3) #Error due to different sizes"
      ],
      "metadata": {
        "id": "yXiMWvoUVY4K",
        "outputId": "51c11106-02dc-472c-e6cc-7763ead1851e",
        "colab": {
          "base_uri": "https://localhost:8080/",
          "height": 211
        }
      },
      "execution_count": 4,
      "outputs": [
        {
          "output_type": "stream",
          "name": "stdout",
          "text": [
            "tensor([11, 12, 13])\n",
            "tensor([5, 7, 9])\n"
          ]
        },
        {
          "output_type": "error",
          "ename": "RuntimeError",
          "evalue": "The size of tensor a (3) must match the size of tensor b (4) at non-singleton dimension 0",
          "traceback": [
            "\u001b[0;31m---------------------------------------------------------------------------\u001b[0m",
            "\u001b[0;31mRuntimeError\u001b[0m                              Traceback (most recent call last)",
            "\u001b[0;32m<ipython-input-4-917715be7e62>\u001b[0m in \u001b[0;36m<cell line: 0>\u001b[0;34m()\u001b[0m\n\u001b[1;32m      5\u001b[0m \u001b[0mprint\u001b[0m\u001b[0;34m(\u001b[0m\u001b[0mt1\u001b[0m\u001b[0;34m+\u001b[0m\u001b[0;36m10\u001b[0m\u001b[0;34m)\u001b[0m\u001b[0;34m\u001b[0m\u001b[0;34m\u001b[0m\u001b[0m\n\u001b[1;32m      6\u001b[0m \u001b[0mprint\u001b[0m\u001b[0;34m(\u001b[0m\u001b[0mt1\u001b[0m\u001b[0;34m+\u001b[0m\u001b[0mt2\u001b[0m\u001b[0;34m)\u001b[0m\u001b[0;34m\u001b[0m\u001b[0;34m\u001b[0m\u001b[0m\n\u001b[0;32m----> 7\u001b[0;31m \u001b[0mprint\u001b[0m\u001b[0;34m(\u001b[0m\u001b[0mt1\u001b[0m\u001b[0;34m+\u001b[0m\u001b[0mt3\u001b[0m\u001b[0;34m)\u001b[0m\u001b[0;34m\u001b[0m\u001b[0;34m\u001b[0m\u001b[0m\n\u001b[0m",
            "\u001b[0;31mRuntimeError\u001b[0m: The size of tensor a (3) must match the size of tensor b (4) at non-singleton dimension 0"
          ]
        }
      ]
    },
    {
      "cell_type": "code",
      "source": [
        "#Multiplication\n",
        "print(t1*10) #Multiplies each element by 10\n",
        "print(t1*t2) #Multuplies each element by it's corresponding element"
      ],
      "metadata": {
        "id": "Ab7OITg0V06P",
        "outputId": "866e18cb-a015-4958-9f3c-60928ecacaa1",
        "colab": {
          "base_uri": "https://localhost:8080/"
        }
      },
      "execution_count": 3,
      "outputs": [
        {
          "output_type": "stream",
          "name": "stdout",
          "text": [
            "tensor([10, 20, 30])\n",
            "tensor([ 4, 10, 18])\n"
          ]
        }
      ]
    },
    {
      "cell_type": "code",
      "source": [],
      "metadata": {
        "id": "7xegKz23V8kN"
      },
      "execution_count": null,
      "outputs": []
    }
  ]
}